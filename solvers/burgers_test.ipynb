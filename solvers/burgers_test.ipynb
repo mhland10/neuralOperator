{
 "cells": [
  {
   "cell_type": "markdown",
   "metadata": {},
   "source": [
    "# Introduction\n",
    "\n",
    "In this notebook, we will be testing the Burger's equation functionality.\n"
   ]
  },
  {
   "cell_type": "code",
   "execution_count": 1,
   "metadata": {},
   "outputs": [
    {
     "name": "stdout",
     "output_type": "stream",
     "text": [
      "solvers file:\tc:\\neuralOperator\\solvers\\solvers.py\n",
      "Library directory:\tC:\\neuralOperator\\solvers\\lib\n",
      "Before import from distributedFunctions\n",
      "After import from distributedFunctions\n"
     ]
    }
   ],
   "source": [
    "import sys, os\n",
    "solver_dir = r\"C:\\neuralOperator\\solvers\"\n",
    "sys.path.append(solver_dir)\n",
    "from solvers import *\n",
    "\n",
    "import numpy as np\n",
    "import matplotlib.pyplot as plt\n"
   ]
  },
  {
   "cell_type": "markdown",
   "metadata": {},
   "source": [
    "# Burgers Equation Object\n",
    "\n",
    "The advantage of how we have the problem set up is that each equation behaves as its own object. We can call the object directly, so we can see what is inside it.\n"
   ]
  },
  {
   "cell_type": "code",
   "execution_count": 2,
   "metadata": {},
   "outputs": [
    {
     "name": "stdout",
     "output_type": "stream",
     "text": [
      "Spatial order is 2\n",
      " \n",
      " \n",
      " \n",
      " \n",
      " \n",
      " \n",
      " \n",
      " \n",
      " \n",
      " \n",
      " \n",
      " \n",
      " \n",
      " \n",
      " \n",
      " \n",
      " \n",
      " \n"
     ]
    }
   ],
   "source": [
    "x_domain = np.linspace( -1/2, 1/2, num=101 )\n",
    "k = 100\n",
    "u_0 = np.tanh( k * x_domain )\n",
    "\n",
    "burgers_test = burgers_eqn()\n"
   ]
  },
  {
   "cell_type": "markdown",
   "metadata": {},
   "source": [
    "Our initial conditions are:\n"
   ]
  },
  {
   "cell_type": "code",
   "execution_count": 3,
   "metadata": {},
   "outputs": [
    {
     "data": {
      "text/plain": [
       "Text(0.5, 1.0, 'Initial conditions for test')"
      ]
     },
     "execution_count": 3,
     "metadata": {},
     "output_type": "execute_result"
    },
    {
     "data": {
      "image/png": "[encoded data removed]",
      "text/plain": [
       "<Figure size 640x480 with 1 Axes>"
      ]
     },
     "metadata": {},
     "output_type": "display_data"
    }
   ],
   "source": [
    "plt.plot( x_domain, u_0 )\n",
    "plt.title(\"Initial conditions for test\")\n"
   ]
  },
  {
   "cell_type": "code",
   "execution_count": 4,
   "metadata": {},
   "outputs": [
    {
     "name": "stderr",
     "output_type": "stream",
     "text": [
      "c:\\Users\\User\\.conda\\envs\\neuralOperator\\lib\\site-packages\\scipy\\sparse\\_index.py:188: SparseEfficiencyWarning: Changing the sparsity structure of a csr_matrix is expensive. lil and dok are more efficient.\n",
      "  self._set_arrayXarray_sparse(i, j, x)\n",
      "c:\\Users\\User\\.conda\\envs\\neuralOperator\\lib\\site-packages\\scipy\\sparse\\_index.py:197: SparseEfficiencyWarning: Changing the sparsity structure of a csr_matrix is expensive. lil and dok are more efficient.\n",
      "  self._set_arrayXarray(i, j, x)\n",
      "c:\\Users\\User\\.conda\\envs\\neuralOperator\\lib\\site-packages\\scipy\\sparse\\_base.py:1068: SparseEfficiencyWarning: Constructing a DIA matrix with 103 diagonals is inefficient\n",
      "  return self.tocoo(copy=copy).todia(copy=False)\n"
     ]
    },
    {
     "data": {
      "text/plain": [
       "array([ 0.00000000e+00,  0.00000000e+00, -5.63211700e-11,  5.64561731e-11,\n",
       "        5.63211700e-11, -5.64561731e-11,  0.00000000e+00, -5.63211700e-11,\n",
       "        5.64561731e-11,  5.63211700e-11, -5.64561731e-11,  0.00000000e+00,\n",
       "        0.00000000e+00,  0.00000000e+00,  0.00000000e+00,  0.00000000e+00,\n",
       "       -5.63211700e-11,  5.64561731e-11,  5.63211700e-11, -1.12777343e-10,\n",
       "        5.64561731e-11,  5.63211700e-11, -5.64561731e-11,  0.00000000e+00,\n",
       "        0.00000000e+00,  0.00000000e+00,  0.00000000e+00, -5.63211700e-11,\n",
       "        5.64561731e-11,  5.63211700e-11, -5.64561731e-11,  3.61666253e-12,\n",
       "        2.71143108e-11,  1.86112459e-10,  1.33511335e-09,  1.03277102e-08,\n",
       "        7.59486873e-08,  5.60731813e-07,  4.14367898e-06,  3.06178868e-05,\n",
       "        2.26237222e-04,  1.67167979e-03,  1.23521240e-02,  9.12699140e-02,\n",
       "        6.74364522e-01,  4.98106200e+00,  3.67043039e+01,  2.65793529e+02,\n",
       "        1.70380980e+03,  5.56837359e+03,  0.00000000e+00, -5.56837359e+03,\n",
       "       -1.70380980e+03, -2.65793529e+02, -3.67043039e+01, -4.98106200e+00,\n",
       "       -6.74364522e-01, -9.12699141e-02, -1.23521240e-02, -1.67167962e-03,\n",
       "       -2.26237279e-04, -3.06178868e-05, -4.14367898e-06, -5.60788266e-07,\n",
       "       -7.58923662e-08, -1.02712576e-08, -1.39143452e-09, -1.86112459e-10,\n",
       "       -2.71143108e-11,  1.07480247e-10, -1.10819798e-10, -1.11096909e-10,\n",
       "        1.10819798e-10,  0.00000000e+00,  0.00000000e+00,  0.00000000e+00,\n",
       "        0.00000000e+00,  0.00000000e+00,  0.00000000e+00,  0.00000000e+00,\n",
       "        0.00000000e+00,  0.00000000e+00,  1.11096909e-10, -1.10819798e-10,\n",
       "       -1.11096909e-10,  1.10819798e-10,  0.00000000e+00,  0.00000000e+00,\n",
       "        0.00000000e+00,  0.00000000e+00,  0.00000000e+00,  0.00000000e+00,\n",
       "        0.00000000e+00,  0.00000000e+00,  1.11096909e-10, -1.10819798e-10,\n",
       "       -1.11096909e-10,  1.10819798e-10,  0.00000000e+00,  0.00000000e+00,\n",
       "        0.00000000e+00])"
      ]
     },
     "execution_count": 4,
     "metadata": {},
     "output_type": "execute_result"
    }
   ],
   "source": [
    "burgers_test( x_domain, u_0, 1 )\n"
   ]
  },
  {
   "cell_type": "markdown",
   "metadata": {},
   "source": [
    "Note that this data is the time gradient that gets returned when we call the object.\n"
   ]
  },
  {
   "cell_type": "markdown",
   "metadata": {},
   "source": [
    "So the gradient of our domain is:\n"
   ]
  },
  {
   "cell_type": "code",
   "execution_count": 5,
   "metadata": {},
   "outputs": [
    {
     "data": {
      "text/plain": [
       "array([0.01, 0.01, 0.01, 0.01, 0.01, 0.01, 0.01, 0.01, 0.01, 0.01, 0.01,\n",
       "       0.01, 0.01, 0.01, 0.01, 0.01, 0.01, 0.01, 0.01, 0.01, 0.01, 0.01,\n",
       "       0.01, 0.01, 0.01, 0.01, 0.01, 0.01, 0.01, 0.01, 0.01, 0.01, 0.01,\n",
       "       0.01, 0.01, 0.01, 0.01, 0.01, 0.01, 0.01, 0.01, 0.01, 0.01, 0.01,\n",
       "       0.01, 0.01, 0.01, 0.01, 0.01, 0.01, 0.01, 0.01, 0.01, 0.01, 0.01,\n",
       "       0.01, 0.01, 0.01, 0.01, 0.01, 0.01, 0.01, 0.01, 0.01, 0.01, 0.01,\n",
       "       0.01, 0.01, 0.01, 0.01, 0.01, 0.01, 0.01, 0.01, 0.01, 0.01, 0.01,\n",
       "       0.01, 0.01, 0.01, 0.01, 0.01, 0.01, 0.01, 0.01, 0.01, 0.01, 0.01,\n",
       "       0.01, 0.01, 0.01, 0.01, 0.01, 0.01, 0.01, 0.01, 0.01, 0.01, 0.01,\n",
       "       0.01, 0.01])"
      ]
     },
     "execution_count": 5,
     "metadata": {},
     "output_type": "execute_result"
    }
   ],
   "source": [
    "burgers_test.dx\n"
   ]
  },
  {
   "cell_type": "markdown",
   "metadata": {},
   "source": [
    "And our 1st order gradient matrix is:\n"
   ]
  },
  {
   "cell_type": "code",
   "execution_count": 6,
   "metadata": {},
   "outputs": [
    {
     "data": {
      "text/plain": [
       "array([[   0.,    0.,    0., ...,    0.,    0.,    0.],\n",
       "       [ -50.,    0.,   50., ...,    0.,    0.,    0.],\n",
       "       [   0.,  -50.,    0., ...,    0.,    0.,    0.],\n",
       "       ...,\n",
       "       [   0.,    0.,    0., ...,    0.,   50.,    0.],\n",
       "       [   0.,    0.,    0., ...,  -50.,    0.,   50.],\n",
       "       [   0.,    0.,    0., ...,   50., -200.,  150.]])"
      ]
     },
     "execution_count": 6,
     "metadata": {},
     "output_type": "execute_result"
    }
   ],
   "source": [
    "burgers_test.B.toarray()\n"
   ]
  },
  {
   "cell_type": "markdown",
   "metadata": {},
   "source": [
    "And our 2nd order gradient matrix is:\n"
   ]
  },
  {
   "cell_type": "code",
   "execution_count": 7,
   "metadata": {},
   "outputs": [
    {
     "data": {
      "text/plain": [
       "array([[     0.,      0.,      0., ...,      0.,      0.,      0.],\n",
       "       [ 10000., -20000.,  10000., ...,      0.,      0.,      0.],\n",
       "       [     0.,  10000., -20000., ...,      0.,      0.,      0.],\n",
       "       ...,\n",
       "       [     0.,      0.,      0., ..., -20000.,  10000.,      0.],\n",
       "       [     0.,      0.,      0., ...,  10000., -20000.,  10000.],\n",
       "       [     0.,      0.,      0., ...,  10000., -20000.,  10000.]])"
      ]
     },
     "execution_count": 7,
     "metadata": {},
     "output_type": "execute_result"
    }
   ],
   "source": [
    "burgers_test.A.toarray()\n"
   ]
  },
  {
   "cell_type": "markdown",
   "metadata": {},
   "source": [
    "All that is well and good, but how big is it?\n"
   ]
  },
  {
   "cell_type": "code",
   "execution_count": 8,
   "metadata": {},
   "outputs": [
    {
     "name": "stdout",
     "output_type": "stream",
     "text": [
      "Burgers Equation object size:\t4.800e+01 Bytes\n"
     ]
    }
   ],
   "source": [
    "print(f\"Burgers Equation object size:\\t{sys.getsizeof(burgers_test):.3e} Bytes\")\n"
   ]
  },
  {
   "cell_type": "markdown",
   "metadata": {},
   "source": [
    "All this looks good, so we can proceed with the time integration.\n"
   ]
  },
  {
   "cell_type": "code",
   "execution_count": null,
   "metadata": {},
   "outputs": [],
   "source": []
  },
  {
   "cell_type": "code",
   "execution_count": null,
   "metadata": {},
   "outputs": [],
   "source": []
  }
 ],
 "metadata": {
  "kernelspec": {
   "display_name": "Python 3",
   "language": "python",
   "name": "python3"
  },
  "language_info": {
   "codemirror_mode": {
    "name": "ipython",
    "version": 3
   },
   "file_extension": ".py",
   "mimetype": "text/x-python",
   "name": "python",
   "nbconvert_exporter": "python",
   "pygments_lexer": "ipython3",
   "version": "3.10.16"
  }
 },
 "nbformat": 4,
 "nbformat_minor": 2
}
